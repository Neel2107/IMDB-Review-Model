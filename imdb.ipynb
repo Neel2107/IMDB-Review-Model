{
 "cells": [
  {
   "cell_type": "code",
   "execution_count": 70,
   "metadata": {},
   "outputs": [],
   "source": [
    "import tensorflow_datasets as tfdb\n",
    "\n"
   ]
  },
  {
   "cell_type": "code",
   "execution_count": 71,
   "metadata": {},
   "outputs": [
    {
     "name": "stderr",
     "output_type": "stream",
     "text": [
      "WARNING:absl:TFDS datasets with text encoding are deprecated and will be removed in a future version. Instead, you should use the plain text version and tokenize the text using `tensorflow_text` (See: https://www.tensorflow.org/tutorials/tensorflow_text/intro#tfdata_example)\n"
     ]
    }
   ],
   "source": [
    "\n",
    "imdb_plaintext, info_plaintext = tfdb.load(\"imdb_reviews\", with_info=True, as_supervised=True)\n",
    "\n",
    "\n",
    "imdb_subwords, info_subwords = tfdb.load(\"imdb_reviews/subwords8k\", with_info=True, as_supervised=True)"
   ]
  },
  {
   "cell_type": "code",
   "execution_count": 72,
   "metadata": {},
   "outputs": [
    {
     "data": {
      "text/plain": [
       "FeaturesDict({\n",
       "    'label': ClassLabel(shape=(), dtype=tf.int64, num_classes=2),\n",
       "    'text': Text(shape=(), dtype=tf.string),\n",
       "})"
      ]
     },
     "execution_count": 72,
     "metadata": {},
     "output_type": "execute_result"
    }
   ],
   "source": [
    "info_plaintext.features"
   ]
  },
  {
   "cell_type": "code",
   "execution_count": 73,
   "metadata": {},
   "outputs": [
    {
     "name": "stdout",
     "output_type": "stream",
     "text": [
      "b\"This was an absolutely terrible movie. Don't be lured in by Christopher Walken or Michael Ironside. Both are great actors, but this must simply be their worst role in history. Even their great acting could not redeem this movie's ridiculous storyline. This movie is an early nineties US propaganda piece. The most pathetic scenes were those when the Columbian rebels were making their cases for revolutions. Maria Conchita Alonso appeared phony, and her pseudo-love affair with Walken was nothing but a pathetic emotional plug in a movie that was devoid of any real meaning. I am disappointed that there are movies like this, ruining actor's like Christopher Walken's good name. I could barely sit through it.\"\n",
      "b'I have been known to fall asleep during films, but this is usually due to a combination of things including, really tired, being warm and comfortable on the sette and having just eaten a lot. However on this occasion I fell asleep because the film was rubbish. The plot development was constant. Constantly slow and boring. Things seemed to happen, but with no explanation of what was causing them or why. I admit, I may have missed part of the film, but i watched the majority of it and everything just seemed to happen of its own accord without any real concern for anything else. I cant recommend this film at all.'\n"
     ]
    }
   ],
   "source": [
    "for example in imdb_plaintext['train'].take(2):\n",
    "  print(example[0].numpy())"
   ]
  },
  {
   "cell_type": "code",
   "execution_count": 74,
   "metadata": {},
   "outputs": [
    {
     "data": {
      "text/plain": [
       "FeaturesDict({\n",
       "    'label': ClassLabel(shape=(), dtype=tf.int64, num_classes=2),\n",
       "    'text': Text(shape=(None,), dtype=tf.int64, encoder=<SubwordTextEncoder vocab_size=8185>),\n",
       "})"
      ]
     },
     "execution_count": 74,
     "metadata": {},
     "output_type": "execute_result"
    }
   ],
   "source": [
    "info_subwords.features"
   ]
  },
  {
   "cell_type": "code",
   "execution_count": 75,
   "metadata": {},
   "outputs": [
    {
     "name": "stdout",
     "output_type": "stream",
     "text": [
      "(<tf.Tensor: shape=(163,), dtype=int64, numpy=\n",
      "array([  62,   18,   41,  604,  927,   65,    3,  644, 7968,   21,   35,\n",
      "       5096,   36,   11,   43, 2948, 5240,  102,   50,  681, 7862, 1244,\n",
      "          3, 3266,   29,  122,  640,    2,   26,   14,  279,  438,   35,\n",
      "         79,  349,  384,   11, 1991,    3,  492,   79,  122,  188,  117,\n",
      "         33, 4047, 4531,   14,   65, 7968,    8, 1819, 3947,    3,   62,\n",
      "         27,    9,   41,  577, 5044, 2629, 2552, 7193, 7961, 3642,    3,\n",
      "         19,  107, 3903,  225,   85,  198,   72,    1, 1512,  738, 2347,\n",
      "        102, 6245,    8,   85,  308,   79, 6936, 7961,   23, 4981, 8044,\n",
      "          3, 6429, 7961, 1141, 1335, 1848, 4848,   55, 3601, 4217, 8050,\n",
      "          2,    5,   59, 3831, 1484, 8040, 7974,  174, 5773,   22, 5240,\n",
      "        102,   18,  247,   26,    4, 3903, 1612, 3902,  291,   11,    4,\n",
      "         27,   13,   18, 4092, 4008, 7961,    6,  119,  213, 2774,    3,\n",
      "         12,  258, 2306,   13,   91,   29,  171,   52,  229,    2, 1245,\n",
      "       5790,  995, 7968,    8,   52, 2948, 5240, 8039, 7968,    8,   74,\n",
      "       1249,    3,   12,  117, 2438, 1369,  192,   39, 7975], dtype=int64)>, <tf.Tensor: shape=(), dtype=int64, numpy=0>)\n",
      "(<tf.Tensor: shape=(142,), dtype=int64, numpy=\n",
      "array([  12,   31,   93,  867,    7, 1256, 6585, 7961,  421,  365,    2,\n",
      "         26,   14,    9,  988, 1089,    7,    4, 6728,    6,  276, 5760,\n",
      "       2587,    2,   81, 6118, 8029,    2,  139, 1892, 7961,    5, 5402,\n",
      "        246,   25,    1, 1771,  350,    5,  369,   56, 5397,  102,    4,\n",
      "       2547,    3, 4001,   25,   14, 7822,  209,   12, 3531, 6585, 7961,\n",
      "         99,    1,   32,   18, 4762,    3,   19,  184, 3223,   18, 5855,\n",
      "       1045,    3, 4232, 3337,   64, 1347,    5, 1190,    3, 4459,    8,\n",
      "        614,    7, 3129,    2,   26,   22,   84, 7020,    6,   71,   18,\n",
      "       4924, 1160,  161,   50, 2265,    3,   12, 3983,    2,   12,  264,\n",
      "         31, 2545,  261,    6,    1,   66,    2,   26,  131,  393,    1,\n",
      "       5846,    6,   15,    5,  473,   56,  614,    7, 1470,    6,  116,\n",
      "        285, 4755, 2088, 7961,  273,  119,  213, 3414, 7961,   23,  332,\n",
      "       1019,    3,   12, 7667,  505,   14,   32,   44,  208, 7975],\n",
      "      dtype=int64)>, <tf.Tensor: shape=(), dtype=int64, numpy=0>)\n"
     ]
    }
   ],
   "source": [
    "for example in imdb_subwords['train'].take(2):\n",
    "  print(example)"
   ]
  },
  {
   "cell_type": "code",
   "execution_count": 76,
   "metadata": {},
   "outputs": [],
   "source": [
    "tokenizer_subwords = info_subwords.features['text'].encoder"
   ]
  },
  {
   "cell_type": "code",
   "execution_count": 77,
   "metadata": {},
   "outputs": [
    {
     "name": "stdout",
     "output_type": "stream",
     "text": [
      "This was an absolutely terrible movie. Don't be lured in by Christopher Walken or Michael Ironside. Both are great actors, but this must simply be their worst role in history. Even their great acting could not redeem this movie's ridiculous storyline. This movie is an early nineties US propaganda piece. The most pathetic scenes were those when the Columbian rebels were making their cases for revolutions. Maria Conchita Alonso appeared phony, and her pseudo-love affair with Walken was nothing but a pathetic emotional plug in a movie that was devoid of any real meaning. I am disappointed that there are movies like this, ruining actor's like Christopher Walken's good name. I could barely sit through it.\n",
      "I have been known to fall asleep during films, but this is usually due to a combination of things including, really tired, being warm and comfortable on the sette and having just eaten a lot. However on this occasion I fell asleep because the film was rubbish. The plot development was constant. Constantly slow and boring. Things seemed to happen, but with no explanation of what was causing them or why. I admit, I may have missed part of the film, but i watched the majority of it and everything just seemed to happen of its own accord without any real concern for anything else. I cant recommend this film at all.\n"
     ]
    }
   ],
   "source": [
    "for example in imdb_subwords['train'].take(2):\n",
    "  print(tokenizer_subwords.decode(example[0]))"
   ]
  },
  {
   "cell_type": "code",
   "execution_count": 78,
   "metadata": {},
   "outputs": [],
   "source": [
    "train_data = imdb_plaintext['train']"
   ]
  },
  {
   "cell_type": "code",
   "execution_count": 79,
   "metadata": {},
   "outputs": [],
   "source": [
    "training_sentences = []"
   ]
  },
  {
   "cell_type": "code",
   "execution_count": 80,
   "metadata": {},
   "outputs": [],
   "source": [
    "for s,_ in train_data:\n",
    "  training_sentences.append(s.numpy().decode('utf8'))"
   ]
  },
  {
   "cell_type": "code",
   "execution_count": 81,
   "metadata": {},
   "outputs": [],
   "source": [
    "from tensorflow.keras.preprocessing.text import Tokenizer\n",
    "from tensorflow.keras.preprocessing.sequence import pad_sequences\n",
    "\n",
    "vocab_size = 10000\n",
    "oov_tok = '<OOV>'\n"
   ]
  },
  {
   "cell_type": "code",
   "execution_count": 82,
   "metadata": {},
   "outputs": [],
   "source": [
    "tokenizer_plaintext = Tokenizer(num_words = 10000, oov_token=oov_tok)\n",
    "tokenizer_plaintext.fit_on_texts(training_sentences)\n",
    "sequences = tokenizer_plaintext.texts_to_sequences(training_sentences)"
   ]
  },
  {
   "cell_type": "code",
   "execution_count": 83,
   "metadata": {},
   "outputs": [
    {
     "data": {
      "text/plain": [
       "[\"this was an absolutely terrible movie don't be <OOV> in by christopher walken or michael <OOV> both are great actors but this must simply be their worst role in history even their great acting could not redeem this movie's ridiculous storyline this movie is an early nineties us propaganda piece the most pathetic scenes were those when the <OOV> rebels were making their cases for <OOV> maria <OOV> <OOV> appeared phony and her pseudo love affair with walken was nothing but a pathetic emotional plug in a movie that was devoid of any real meaning i am disappointed that there are movies like this ruining actor's like christopher <OOV> good name i could barely sit through it\"]"
      ]
     },
     "execution_count": 83,
     "metadata": {},
     "output_type": "execute_result"
    }
   ],
   "source": [
    "tokenizer_plaintext.sequences_to_texts(sequences[0:1])"
   ]
  },
  {
   "cell_type": "code",
   "execution_count": 84,
   "metadata": {},
   "outputs": [
    {
     "data": {
      "text/plain": [
       "88583"
      ]
     },
     "execution_count": 84,
     "metadata": {},
     "output_type": "execute_result"
    }
   ],
   "source": [
    "len(tokenizer_plaintext.word_index)"
   ]
  },
  {
   "cell_type": "code",
   "execution_count": 85,
   "metadata": {},
   "outputs": [
    {
     "name": "stdout",
     "output_type": "stream",
     "text": [
      "[62, 18, 41, 604, 927, 65, 3, 644, 7968, 21, 35, 5096, 36, 11, 43, 2948, 5240, 102, 50, 681, 7862, 1244, 3, 3266, 29, 122, 640, 2, 26, 14, 279, 438, 35, 79, 349, 384, 11, 1991, 3, 492, 79, 122, 188, 117, 33, 4047, 4531, 14, 65, 7968, 8, 1819, 3947, 3, 62, 27, 9, 41, 577, 5044, 2629, 2552, 7193, 7961, 3642, 3, 19, 107, 3903, 225, 85, 198, 72, 1, 1512, 738, 2347, 102, 6245, 8, 85, 308, 79, 6936, 7961, 23, 4981, 8044, 3, 6429, 7961, 1141, 1335, 1848, 4848, 55, 3601, 4217, 8050, 2, 5, 59, 3831, 1484, 8040, 7974, 174, 5773, 22, 5240, 102, 18, 247, 26, 4, 3903, 1612, 3902, 291, 11, 4, 27, 13, 18, 4092, 4008, 7961, 6, 119, 213, 2774, 3, 12, 258, 2306, 13, 91, 29, 171, 52, 229, 2, 1245, 5790, 995, 7968, 8, 52, 2948, 5240, 8039, 7968, 8, 74, 1249, 3, 12, 117, 2438, 1369, 192, 39, 7975]\n"
     ]
    }
   ],
   "source": [
    "tokenized_string = tokenizer_subwords.encode(training_sentences[0])\n",
    "print(tokenized_string)\n"
   ]
  },
  {
   "cell_type": "code",
   "execution_count": 86,
   "metadata": {},
   "outputs": [],
   "source": [
    "original_string = tokenizer_subwords.decode(tokenized_string)"
   ]
  },
  {
   "cell_type": "code",
   "execution_count": 87,
   "metadata": {},
   "outputs": [
    {
     "name": "stdout",
     "output_type": "stream",
     "text": [
      "This was an absolutely terrible movie. Don't be lured in by Christopher Walken or Michael Ironside. Both are great actors, but this must simply be their worst role in history. Even their great acting could not redeem this movie's ridiculous storyline. This movie is an early nineties US propaganda piece. The most pathetic scenes were those when the Columbian rebels were making their cases for revolutions. Maria Conchita Alonso appeared phony, and her pseudo-love affair with Walken was nothing but a pathetic emotional plug in a movie that was devoid of any real meaning. I am disappointed that there are movies like this, ruining actor's like Christopher Walken's good name. I could barely sit through it.\n"
     ]
    }
   ],
   "source": [
    "print (original_string)"
   ]
  },
  {
   "cell_type": "code",
   "execution_count": 88,
   "metadata": {},
   "outputs": [
    {
     "name": "stdout",
     "output_type": "stream",
     "text": [
      "Tokenized string is [[1, 37, 1, 6, 1]]\n",
      "The original string: ['<OOV> from <OOV> to <OOV>']\n"
     ]
    }
   ],
   "source": [
    "sample_string = 'TensorFlow, from basics to mastery'\n",
    "tokenized_string = tokenizer_plaintext.texts_to_sequences([sample_string])\n",
    "print ('Tokenized string is {}'.format(tokenized_string))\n",
    "original_string = tokenizer_plaintext.sequences_to_texts(tokenized_string)\n",
    "print ('The original string: {}'.format(original_string))"
   ]
  },
  {
   "cell_type": "code",
   "execution_count": 89,
   "metadata": {},
   "outputs": [
    {
     "name": "stdout",
     "output_type": "stream",
     "text": [
      "Tokenized string is [6307, 2327, 4043, 2120, 2, 48, 4249, 4429, 7, 2652, 8050]\n",
      "The original string: TensorFlow, from basics to mastery\n",
      "6307 ----> Ten\n",
      "2327 ----> sor\n",
      "4043 ----> Fl\n",
      "2120 ----> ow\n",
      "2 ----> , \n",
      "48 ----> from \n",
      "4249 ----> basi\n",
      "4429 ----> cs \n",
      "7 ----> to \n",
      "2652 ----> master\n",
      "8050 ----> y\n"
     ]
    }
   ],
   "source": [
    "tokenized_string = tokenizer_subwords.encode(sample_string)\n",
    "print ('Tokenized string is {}'.format(tokenized_string))\n",
    "original_string = tokenizer_subwords.decode(tokenized_string)\n",
    "print ('The original string: {}'.format(original_string))\n",
    "for ts in tokenized_string:\n",
    "  print ('{} ----> {}'.format(ts, tokenizer_subwords.decode([ts])))"
   ]
  },
  {
   "cell_type": "code",
   "execution_count": 90,
   "metadata": {},
   "outputs": [],
   "source": [
    "BUFFER_SIZE = 10000\n",
    "BATCH_SIZE = 64\n",
    "\n",
    "train_data, test_data = imdb_subwords['train'], imdb_subwords['test'], \n",
    "train_dataset = train_data.shuffle(BUFFER_SIZE)\n",
    "train_dataset = train_dataset.padded_batch(BATCH_SIZE)\n",
    "test_dataset = test_data.padded_batch(BATCH_SIZE)"
   ]
  },
  {
   "cell_type": "code",
   "execution_count": 91,
   "metadata": {},
   "outputs": [
    {
     "name": "stdout",
     "output_type": "stream",
     "text": [
      "Model: \"sequential_2\"\n",
      "_________________________________________________________________\n",
      " Layer (type)                Output Shape              Param #   \n",
      "=================================================================\n",
      " embedding_2 (Embedding)     (None, None, 64)          523840    \n",
      "                                                                 \n",
      " global_average_pooling1d_2   (None, 64)               0         \n",
      " (GlobalAveragePooling1D)                                        \n",
      "                                                                 \n",
      " dense_4 (Dense)             (None, 6)                 390       \n",
      "                                                                 \n",
      " dense_5 (Dense)             (None, 1)                 7         \n",
      "                                                                 \n",
      "=================================================================\n",
      "Total params: 524,237\n",
      "Trainable params: 524,237\n",
      "Non-trainable params: 0\n",
      "_________________________________________________________________\n"
     ]
    }
   ],
   "source": [
    "import tensorflow as tf\n",
    "\n",
    "embedding_dim = 64\n",
    "\n",
    "model = tf.keras.Sequential([\n",
    "    tf.keras.layers.Embedding(tokenizer_subwords.vocab_size, embedding_dim),\n",
    "    tf.keras.layers.GlobalAveragePooling1D(),\n",
    "    tf.keras.layers.Dense(6, activation='relu'),\n",
    "    tf.keras.layers.Dense(1, activation='sigmoid')\n",
    "])\n",
    "\n",
    "model.summary()"
   ]
  },
  {
   "cell_type": "code",
   "execution_count": 92,
   "metadata": {},
   "outputs": [
    {
     "name": "stdout",
     "output_type": "stream",
     "text": [
      "Epoch 1/10\n",
      "391/391 [==============================] - 56s 136ms/step - loss: 0.6752 - accuracy: 0.6056 - val_loss: 0.6295 - val_accuracy: 0.6939\n",
      "Epoch 2/10\n",
      "391/391 [==============================] - 49s 126ms/step - loss: 0.5221 - accuracy: 0.8066 - val_loss: 0.4624 - val_accuracy: 0.8046\n",
      "Epoch 3/10\n",
      "391/391 [==============================] - 47s 119ms/step - loss: 0.3764 - accuracy: 0.8686 - val_loss: 0.3726 - val_accuracy: 0.8548\n",
      "Epoch 4/10\n",
      "391/391 [==============================] - 53s 136ms/step - loss: 0.3050 - accuracy: 0.8944 - val_loss: 0.3315 - val_accuracy: 0.8741\n",
      "Epoch 5/10\n",
      "391/391 [==============================] - 51s 130ms/step - loss: 0.2651 - accuracy: 0.9079 - val_loss: 0.3147 - val_accuracy: 0.8787\n",
      "Epoch 6/10\n",
      "391/391 [==============================] - 50s 127ms/step - loss: 0.2396 - accuracy: 0.9159 - val_loss: 0.3156 - val_accuracy: 0.8720\n",
      "Epoch 7/10\n",
      "391/391 [==============================] - 51s 130ms/step - loss: 0.2171 - accuracy: 0.9236 - val_loss: 0.3215 - val_accuracy: 0.8689\n",
      "Epoch 8/10\n",
      "391/391 [==============================] - 52s 133ms/step - loss: 0.2026 - accuracy: 0.9284 - val_loss: 0.3115 - val_accuracy: 0.8767\n",
      "Epoch 9/10\n",
      "391/391 [==============================] - 51s 131ms/step - loss: 0.1882 - accuracy: 0.9355 - val_loss: 0.3099 - val_accuracy: 0.8809\n",
      "Epoch 10/10\n",
      "391/391 [==============================] - 50s 127ms/step - loss: 0.1757 - accuracy: 0.9394 - val_loss: 0.3133 - val_accuracy: 0.8809\n"
     ]
    }
   ],
   "source": [
    "num_epochs = 10\n",
    "\n",
    "model.compile(loss='binary_crossentropy',optimizer='adam',metrics=['accuracy'])\n",
    "\n",
    "history = model.fit(train_dataset, epochs=num_epochs, validation_data=test_dataset)"
   ]
  },
  {
   "cell_type": "code",
   "execution_count": 97,
   "metadata": {},
   "outputs": [
    {
     "data": {
      "image/png": "[encoded data removed]",
      "text/plain": [
       "<Figure size 432x288 with 1 Axes>"
      ]
     },
     "metadata": {
      "needs_background": "light"
     },
     "output_type": "display_data"
    },
    {
     "data": {
      "image/png": "[encoded data removed]",
      "text/plain": [
       "<Figure size 432x288 with 1 Axes>"
      ]
     },
     "metadata": {
      "needs_background": "light"
     },
     "output_type": "display_data"
    }
   ],
   "source": [
    "import matplotlib.pyplot as plt\n",
    "\n",
    "def plot_graphs(history, string):\n",
    "  plt.plot(history.history[string])\n",
    "  plt.plot(history.history['val_'+string])\n",
    "  plt.xlabel(\"Epochs\")\n",
    "  plt.ylabel(string)\n",
    "  plt.legend([string, 'val_'+string])\n",
    "  plt.show()\n",
    "\n",
    "plot_graphs(history, \"accuracy\")\n",
    "plot_graphs(history, \"loss\")"
   ]
  },
  {
   "cell_type": "code",
   "execution_count": 98,
   "metadata": {},
   "outputs": [
    {
     "name": "stdout",
     "output_type": "stream",
     "text": [
      "(8185, 64)\n"
     ]
    }
   ],
   "source": [
    "embedding_layer = model.layers[0]\n",
    "\n",
    "embedding_weights = embedding_layer.get_weights()[0]\n",
    "\n",
    "print(embedding_weights.shape)"
   ]
  },
  {
   "cell_type": "code",
   "execution_count": 99,
   "metadata": {},
   "outputs": [],
   "source": [
    "reverse_word_index = tokenizer_plaintext.index_word"
   ]
  },
  {
   "cell_type": "code",
   "execution_count": 100,
   "metadata": {},
   "outputs": [],
   "source": [
    "import io\n",
    "\n",
    "out_v = io.open('vecs.tsv', 'w', encoding='utf-8')\n",
    "out_m = io.open('meta.tsv', 'w', encoding='utf-8')\n",
    "for word_num in range(1, vocab_size):\n",
    "\n",
    "\n",
    "  if(word_num<8085):\n",
    "\n",
    "    word_name = reverse_word_index[word_num]\n",
    "\n",
    "    word_embedding = embedding_weights[word_num]\n",
    "\n",
    "    out_m.write(word_name + \"\\n\")\n",
    "\n",
    "    out_v.write('\\t'.join([str(x) for x in word_embedding]) + \"\\n\")\n",
    "  \n",
    "  else:\n",
    "    break\n",
    "\n",
    "out_v.close()\n",
    "out_m.close()\n",
    "\n",
    "# import os\n",
    "# files = \"P:\\Data Science\\Machine Learning\\IMDB-Review\" files.download('vecs.tsv') files.download('meta.tsv')\n"
   ]
  },
  {
   "cell_type": "code",
   "execution_count": null,
   "metadata": {},
   "outputs": [],
   "source": []
  }
 ],
 "metadata": {
  "kernelspec": {
   "display_name": "Python 3.10.5 64-bit",
   "language": "python",
   "name": "python3"
  },
  "language_info": {
   "codemirror_mode": {
    "name": "ipython",
    "version": 3
   },
   "file_extension": ".py",
   "mimetype": "text/x-python",
   "name": "python",
   "nbconvert_exporter": "python",
   "pygments_lexer": "ipython3",
   "version": "3.10.5"
  },
  "orig_nbformat": 4,
  "vscode": {
   "interpreter": {
    "hash": "369f2c481f4da34e4445cda3fffd2e751bd1c4d706f27375911949ba6bb62e1c"
   }
  }
 },
 "nbformat": 4,
 "nbformat_minor": 2
}
